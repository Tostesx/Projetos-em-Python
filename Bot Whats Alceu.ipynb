{
 "cells": [
  {
   "cell_type": "code",
   "execution_count": 20,
   "id": "14be638b",
   "metadata": {},
   "outputs": [],
   "source": [
    "import pyautogui\n",
    "import pyperclip # para lidar com caracteres especiais de links\n",
    "import time # para controlar o tempo\n",
    "import pandas # para trabalhar com um grande quantidade de dados\n",
    "\n",
    "#texto = \"\"\"digite o seu texto {chaves para incluir o valor de uma variável(vírgula para separador de milhar (.2f)}\"\"\" \n",
    "#Recomendável usar o pyperclip e depois o pyautogui.hotkey\n",
    "\n",
    "# pyautogui.click -> para clicar.\n",
    "# pyautogui.write -> para escrever.\n",
    "# pyautogui.press -> para pressionar uma tecla.\n",
    "# pyautogui.hotkey -> para usar atalhos.\n",
    "# pyautogui.PAUSE = -> para ter um delay ex = 1 significa um delay de execução de um segundo.\n",
    "# pyautogui.position() -> para mostrar a posição do mouse para clicar.\n",
    "# pyautogui.FAILSAFE = True -> leve a seta do mouse para o canto superior esquerdo e pause o código.\n",
    "\n",
    "# pyperclip.copy -> para copiar links e textos complexos.\n",
    "\n",
    "# time.sleep() -> para fazer pausas maiores.\n",
    "\n",
    "# var = pandas.read_(r\"C:...\") !!Sempre botar o (r) antes das aspas.\n",
    "#display(var) uma versão melhor para tabelas do que o print"
   ]
  },
  {
   "cell_type": "code",
   "execution_count": 19,
   "id": "233dc428",
   "metadata": {},
   "outputs": [],
   "source": [
    "pyautogui.PAUSE = 1\n",
    "\n",
    "pyautogui.FAILSAFE = True\n",
    "\n",
    "pyautogui.hotkey(\"ctrl\",\"tab\")\n",
    "pyautogui.click(x=825, y=985, clicks=1)\n",
    "\n",
    "time.sleep(2)\n",
    "pyautogui.write(\"Eu sou como o vento que varre a cidade\")\n",
    "pyautogui.press(\"enter\")\n",
    "\n",
    "time.sleep(2)\n",
    "pyautogui.write(\"Voce me conhece e n pode me ver\")\n",
    "pyautogui.press(\"enter\")\n",
    "\n",
    "time.sleep(2)\n",
    "pyautogui.write(\"Presente de grego cavalo de troia\")\n",
    "pyautogui.press(\"enter\")\n",
    "\n",
    "time.sleep(2)\n",
    "pyautogui.write(\"Sou cobra Jiboia\")\n",
    "pyautogui.press(\"enter\")\n",
    "\n",
    "time.sleep(2)\n",
    "pyautogui.write(\"Saci Perere\")\n",
    "pyautogui.press(\"enter\")\n",
    "\n"
   ]
  },
  {
   "cell_type": "code",
   "execution_count": 12,
   "id": "bd409ba0",
   "metadata": {},
   "outputs": [
    {
     "data": {
      "text/plain": [
       "Point(x=1714, y=992)"
      ]
     },
     "execution_count": 12,
     "metadata": {},
     "output_type": "execute_result"
    }
   ],
   "source": []
  },
  {
   "cell_type": "code",
   "execution_count": 13,
   "id": "3742da75",
   "metadata": {},
   "outputs": [
    {
     "name": "stdout",
     "output_type": "stream",
     "text": [
      "Requirement already satisfied: pyautogui in c:\\users\\veloxshop\\anaconda3\\lib\\site-packages (0.9.54)\n",
      "Requirement already satisfied: pymsgbox in c:\\users\\veloxshop\\anaconda3\\lib\\site-packages (from pyautogui) (1.0.9)\n",
      "Requirement already satisfied: pytweening>=1.0.4 in c:\\users\\veloxshop\\anaconda3\\lib\\site-packages (from pyautogui) (1.0.7)\n",
      "Requirement already satisfied: pyscreeze>=0.1.21 in c:\\users\\veloxshop\\anaconda3\\lib\\site-packages (from pyautogui) (0.1.30)\n",
      "Requirement already satisfied: pygetwindow>=0.0.5 in c:\\users\\veloxshop\\anaconda3\\lib\\site-packages (from pyautogui) (0.0.9)\n",
      "Requirement already satisfied: mouseinfo in c:\\users\\veloxshop\\anaconda3\\lib\\site-packages (from pyautogui) (0.1.3)\n",
      "Requirement already satisfied: pyrect in c:\\users\\veloxshop\\anaconda3\\lib\\site-packages (from pygetwindow>=0.0.5->pyautogui) (0.2.0)\n",
      "Requirement already satisfied: Pillow>=9.3.0 in c:\\users\\veloxshop\\anaconda3\\lib\\site-packages (from pyscreeze>=0.1.21->pyautogui) (10.0.1)\n",
      "Requirement already satisfied: pyperclip in c:\\users\\veloxshop\\anaconda3\\lib\\site-packages (from mouseinfo->pyautogui) (1.8.2)\n"
     ]
    }
   ],
   "source": [
    "!pip install pyautogui"
   ]
  },
  {
   "cell_type": "code",
   "execution_count": null,
   "id": "00357abf",
   "metadata": {},
   "outputs": [],
   "source": []
  }
 ],
 "metadata": {
  "kernelspec": {
   "display_name": "Python 3 (ipykernel)",
   "language": "python",
   "name": "python3"
  },
  "language_info": {
   "codemirror_mode": {
    "name": "ipython",
    "version": 3
   },
   "file_extension": ".py",
   "mimetype": "text/x-python",
   "name": "python",
   "nbconvert_exporter": "python",
   "pygments_lexer": "ipython3",
   "version": "3.11.5"
  }
 },
 "nbformat": 4,
 "nbformat_minor": 5
}
