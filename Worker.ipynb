{
 "cells": [
  {
   "cell_type": "code",
   "execution_count": 68,
   "id": "db80959b-6b0b-4e71-a6a7-8dec08ecf5bf",
   "metadata": {
    "scrolled": true
   },
   "outputs": [],
   "source": [
    "import pyautogui as pi\n",
    "import time\n",
    "\n",
    "pi.PAUSE = 2\n",
    "\n",
    "time.sleep(2)\n",
    "pi.moveTo(817, 1076)\n",
    "\n",
    "time.sleep(1)\n",
    "pi.keyDown('shift')\n",
    "pi.click()\n",
    "pi.keyUp('shift')\n",
    "\n",
    "time.sleep(4)\n",
    "pi.click(1265, 390)\n",
    "\n",
    "time.sleep(4)\n",
    "pi.click(960, 505)\n",
    "\n",
    "time.sleep(3)\n",
    "pi.click(93, 187)\n",
    "\n",
    "time.sleep(3)\n",
    "pi.write('honestmoneyaracno@gmail.com')\n",
    "pi.press('tab')\n",
    "pi.press('tab')\n",
    "pi.write('Relatorio Semanal')\n",
    "pi.press('tab')\n",
    "pi.write('Sr.Fulano aqui esta o relatorio semanal, que deixarei anexado a este email.')\n",
    "pi.press('enter')\n",
    "pi.write('ATT Matheus Tostes.')\n",
    "\n",
    "\n",
    "time.sleep(3)\n",
    "pi.click(1419, 1009)\n",
    "pi.click(194, 372)\n",
    "pi.click(600, 887)\n",
    "pi.write('Relatorio.xlsx')\n",
    "pi.press('enter')\n",
    "time.sleep(2)\n",
    "pi.click(1311, 1006)\n",
    "\n",
    "time.sleep(3)\n",
    "pi.click(719, 1058)\n",
    "time.sleep(1)\n",
    "pi.click(634, 389)\n",
    "pi.write('Sr.Fulano o relatorio semanal foi enviado para o email:')\n",
    "pi.press('enter')\n",
    "pi.write('********@gmail.com')\n",
    "pi.press('enter')"
   ]
  },
  {
   "cell_type": "code",
   "execution_count": 66,
   "id": "fae75534-7075-4f74-ba89-133cf8551624",
   "metadata": {},
   "outputs": [
    {
     "data": {
      "text/plain": [
       "Point(x=634, y=389)"
      ]
     },
     "execution_count": 66,
     "metadata": {},
     "output_type": "execute_result"
    }
   ],
   "source": []
  },
  {
   "cell_type": "code",
   "execution_count": null,
   "id": "7536ea15-0874-43d5-90b2-81409ae754ae",
   "metadata": {},
   "outputs": [],
   "source": []
  }
 ],
 "metadata": {
  "kernelspec": {
   "display_name": "Python 3 (ipykernel)",
   "language": "python",
   "name": "python3"
  },
  "language_info": {
   "codemirror_mode": {
    "name": "ipython",
    "version": 3
   },
   "file_extension": ".py",
   "mimetype": "text/x-python",
   "name": "python",
   "nbconvert_exporter": "python",
   "pygments_lexer": "ipython3",
   "version": "3.11.5"
  }
 },
 "nbformat": 4,
 "nbformat_minor": 5
}
