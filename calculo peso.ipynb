{
 "cells": [
  {
   "cell_type": "code",
   "execution_count": 1,
   "id": "3f8b7e14",
   "metadata": {},
   "outputs": [],
   "source": [
    "import PySimpleGUI as sg\n",
    "\n",
    "class PerdaC:\n",
    "    def __init__(self, altura, peso, idade):\n",
    "        self.altura = altura\n",
    "        self.peso = peso\n",
    "        self.idade = idade\n",
    "\n",
    "def calcular_calorias(sexo, altura, peso, idade):\n",
    "    if sexo.upper() == \"M\":\n",
    "        return 88.362 + (13.397 * peso) + (4.799 * altura) - (5.677 * idade)\n",
    "    elif sexo.upper() == \"F\":\n",
    "        return 447.593 + (9.247 * peso) + (3.098 * altura) - (4.330 * idade)\n",
    "    else:\n",
    "        return None\n",
    "\n",
    "layout = [\n",
    "    [sg.Text(\"Escolha seu sexo:\")],\n",
    "    [sg.Radio(\"Masculino\", \"SEXO\", key=\"M\"), sg.Radio(\"Feminino\", \"SEXO\", key=\"F\")],\n",
    "    [sg.Text(\"Digite a sua altura em cm:\")],\n",
    "    [sg.InputText(key=\"altura\")],\n",
    "    [sg.Text(\"Digite o seu peso:\")],\n",
    "    [sg.InputText(key=\"peso\")],\n",
    "    [sg.Text(\"Digite a sua idade:\")],\n",
    "    [sg.InputText(key=\"idade\")],\n",
    "    [sg.Button(\"Calcular\"), sg.Button(\"Sair\")],\n",
    "    [sg.Text(size=(30, 1), key=\"resultado\")]\n",
    "]\n",
    "\n",
    "window = sg.Window(\"Calculadora de Calorias\", layout)\n",
    "\n",
    "while True:\n",
    "    event, values = window.read()\n",
    "\n",
    "    if event in (sg.WIN_CLOSED, \"Sair\"):\n",
    "        break\n",
    "    elif event == \"Calcular\":\n",
    "        sexo = \"M\" if values[\"M\"] else \"F\" if values[\"F\"] else None\n",
    "        altura = float(values[\"altura\"])\n",
    "        peso = float(values[\"peso\"])\n",
    "        idade = int(values[\"idade\"])\n",
    "\n",
    "        if sexo is not None:\n",
    "            perda_calorias = PerdaC(altura, peso, idade)\n",
    "            calorias = calcular_calorias(sexo, altura, peso, idade)\n",
    "            if calorias is not None:\n",
    "                window[\"resultado\"].update(f\"Estimativa de calorias: {calorias:.2f}\")\n",
    "            else:\n",
    "                sg.popup_error(\"Opção de sexo inválida. Escolha M ou F.\")\n",
    "        else:\n",
    "            sg.popup_error(\"Escolha uma opção de sexo.\")\n",
    "\n",
    "window.close()\n"
   ]
  },
  {
   "cell_type": "code",
   "execution_count": null,
   "id": "68c37ce1",
   "metadata": {},
   "outputs": [],
   "source": []
  }
 ],
 "metadata": {
  "kernelspec": {
   "display_name": "Python 3 (ipykernel)",
   "language": "python",
   "name": "python3"
  },
  "language_info": {
   "codemirror_mode": {
    "name": "ipython",
    "version": 3
   },
   "file_extension": ".py",
   "mimetype": "text/x-python",
   "name": "python",
   "nbconvert_exporter": "python",
   "pygments_lexer": "ipython3",
   "version": "3.11.5"
  }
 },
 "nbformat": 4,
 "nbformat_minor": 5
}
