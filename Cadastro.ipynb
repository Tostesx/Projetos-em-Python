{
 "cells": [
  {
   "cell_type": "code",
   "execution_count": 1,
   "id": "9bf23246",
   "metadata": {},
   "outputs": [],
   "source": [
    "import pandas\n",
    "\n",
    "class Pessoa:\n",
    "    def __init__(self, nome, idade, peso, altura, endereco):\n",
    "        self.nome = nome\n",
    "        self.idade = idade\n",
    "        self.altura = altura\n",
    "        self.peso = peso\n",
    "        self.endereco = endereco"
   ]
  },
  {
   "cell_type": "code",
   "execution_count": 19,
   "id": "0de4d450",
   "metadata": {
    "scrolled": true
   },
   "outputs": [
    {
     "name": "stdout",
     "output_type": "stream",
     "text": [
      "Digite [1] para cadastrar um usuário, [2] para consultar os cadastros e [3] para sair: 1\n",
      "Digite seu nome: mm\n",
      "Digite sua idade: 545\n",
      "Digite sua altura: 645\n",
      "Digite seu peso: 654\n",
      "Digite seu endereço: ll54\n",
      "Digite [1] para cadastrar um usuário, [2] para consultar os cadastros e [3] para sair: 2\n"
     ]
    },
    {
     "data": {
      "text/plain": [
       "'Nome: mm, Idade: 545, Peso: 654, Altura: 645.0, Endereço: ll54'"
      ]
     },
     "metadata": {},
     "output_type": "display_data"
    },
    {
     "name": "stdout",
     "output_type": "stream",
     "text": [
      "Digite [1] para cadastrar um usuário, [2] para consultar os cadastros e [3] para sair: 3\n"
     ]
    }
   ],
   "source": [
    "usuarios = []\n",
    "\n",
    "while True:\n",
    "    opcao = int(input(\"Digite [1] para cadastrar um usuário, [2] para consultar os cadastros e [3] para sair: \"))\n",
    "\n",
    "    if opcao == 1:\n",
    "        nome_usuario = input(\"Digite seu nome: \")\n",
    "        idade_usuario = int(input(\"Digite sua idade: \"))\n",
    "        altura_usuario = float(input(\"Digite sua altura: \"))\n",
    "        peso_usuario = int(input(\"Digite seu peso: \"))\n",
    "        endereco_usuario = str(input(\"Digite seu endereço: \"))\n",
    "\n",
    "        novo_usuario = Pessoa(nome_usuario, idade_usuario, peso_usuario, altura_usuario, endereco_usuario)\n",
    "        usuarios.append(novo_usuario)\n",
    "\n",
    "    elif opcao == 2:\n",
    "        for usuario in usuarios:\n",
    "            display(f\"Nome: {usuario.nome}, Idade: {usuario.idade}, Peso: {usuario.peso}, Altura: {usuario.altura}, Endereço: {usuario.endereco}\")\n",
    "\n",
    "    elif opcao == 3:\n",
    "        break"
   ]
  },
  {
   "cell_type": "code",
   "execution_count": null,
   "id": "81c48f64",
   "metadata": {},
   "outputs": [],
   "source": []
  }
 ],
 "metadata": {
  "kernelspec": {
   "display_name": "Python 3 (ipykernel)",
   "language": "python",
   "name": "python3"
  },
  "language_info": {
   "codemirror_mode": {
    "name": "ipython",
    "version": 3
   },
   "file_extension": ".py",
   "mimetype": "text/x-python",
   "name": "python",
   "nbconvert_exporter": "python",
   "pygments_lexer": "ipython3",
   "version": "3.11.5"
  }
 },
 "nbformat": 4,
 "nbformat_minor": 5
}
