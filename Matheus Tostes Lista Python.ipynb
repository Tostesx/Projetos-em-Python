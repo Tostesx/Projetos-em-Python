{
 "cells": [
  {
   "cell_type": "code",
   "execution_count": null,
   "id": "f79df3a6",
   "metadata": {},
   "outputs": [],
   "source": [
    "#01 Digitar dois números e imprima a soma deles.\n",
    "num1 = int(input(\"Digite o primeiro número: \"))\n",
    "num2 = int(input(\"Digite o segundo número: \"))\n",
    "soma = int(num1 + num2)\n",
    "print(soma)"
   ]
  },
  {
   "cell_type": "code",
   "execution_count": null,
   "id": "e281033b",
   "metadata": {},
   "outputs": [],
   "source": [
    "#02 Converter graus Celsius para Fahrenheit.\n",
    "graus_celcius = 35\n",
    "graus = int(graus_celcius)\n",
    "graus_fahrenheit = (graus * 9/5) + 32\n",
    "print(\"Celcius é :\", graus_celcius, \", para Fahrenheit fica: \",graus_fahrenheit)"
   ]
  },
  {
   "cell_type": "code",
   "execution_count": null,
   "id": "2a1a8cd4",
   "metadata": {},
   "outputs": [],
   "source": [
    "#03 Ler um nome de usuário e uma senha e não aceite a senha igual ao nome do usuário\n",
    "login = str(input(\"Digite seu login :\"))\n",
    "senha = str(input(\"Digite sua senha :\"))\n",
    "while(senha == login):\n",
    "    print(\"O seu login não pode ser o mesmo que a senha!!\")\n",
    "    login = str(input(\"Digite seu login :\"))\n",
    "    senha = str(input(\"Digite sua senha :\"))\n",
    "print(\"Seja bem vindo!\")"
   ]
  },
  {
   "cell_type": "code",
   "execution_count": null,
   "id": "e4ad2f86",
   "metadata": {},
   "outputs": [],
   "source": [
    "#04 Quantidade de km percorridos por um carro alugadopelo usuário\n",
    "carro = int(60)\n",
    "km = float(0.15)\n",
    "dias = int(input(\"Digite quantos dias você usou o carro: \"))\n",
    "km_rodado = int(input(\"Digite quantos quilômetros você percorreu: \"))\n",
    "gasto_final = int((carro * dias) + (km * km_rodado))\n",
    "print(\"Seu gasto final é de R$\",gasto_final)"
   ]
  },
  {
   "cell_type": "code",
   "execution_count": null,
   "id": "fd86e9a9",
   "metadata": {},
   "outputs": [],
   "source": [
    "#05 Ler um valor em metros e o exiba convertido em centímetros e milímetros.\n",
    "metro = int(input(\"Digite a quantidade de metro desejada: \"))\n",
    "cm = int(metro * 100)\n",
    "mm = int(cm * 100)\n",
    "print(\"Em metros m:\", metro,\" em centímetro cm:\", cm,\" em milimetro mm:\",mm)"
   ]
  },
  {
   "cell_type": "code",
   "execution_count": null,
   "id": "be09efa3",
   "metadata": {},
   "outputs": [],
   "source": [
    "#06 Ler a idade de uma pessoa e informe sua classe eleitoral.\n",
    "idade = int(input(\"Digite a sua idade: \"))\n",
    "if(idade < 16):\n",
    "    print(\"Idade de não eleitor.\")\n",
    "elif(idade >= 18 and idade < 65):\n",
    "    print(\"Idade de eleitor obrigatório.\")\n",
    "elif(idade >= 16 and idade < 18 or idade > 65):\n",
    "    print(\"Idade de eleitor facultativo.\")\n",
    "else:\n",
    "    print(\"Erro!\")"
   ]
  },
  {
   "cell_type": "code",
   "execution_count": null,
   "id": "db4e7e8b",
   "metadata": {},
   "outputs": [],
   "source": [
    "#07 Ler um número inteiro e mostre se ele é par ou ímpar.\n",
    "numero = int(input(\"Digite um número :\"))\n",
    "if(numero % 2 == 0):\n",
    "    print(\"É par!\")\n",
    "else:\n",
    "    print(\"É ímpar!\")"
   ]
  },
  {
   "cell_type": "code",
   "execution_count": null,
   "id": "abebf85a",
   "metadata": {},
   "outputs": [],
   "source": [
    "#08 Perguntar o salário de um funcionário e calcule o valor do seu aumento.\n",
    "salario = int(input(\"Digite o valor do seu salário: \"))\n",
    "aumento = int\n",
    "ajuste = int\n",
    "if(salario >= 1250):\n",
    "    aumento = 0.1\n",
    "    ajuste = (salario * aumento) + salario\n",
    "    print(\"O seu salário agora é de: \",ajuste)\n",
    "elif(salario < 1250):\n",
    "    aumento = 0.15\n",
    "    ajuste = (salario * aumento) + salario\n",
    "    print(\"O seu salário agora é de: \",ajuste)\n",
    "else:\n",
    "    print(\"Erro\")"
   ]
  },
  {
   "cell_type": "code",
   "execution_count": 5,
   "id": "6a6f6a59",
   "metadata": {},
   "outputs": [
    {
     "name": "stdout",
     "output_type": "stream",
     "text": [
      "Digite o primeiro termo: 1\n",
      "Digite a razão: 5\n",
      "1\n",
      "6\n",
      "11\n",
      "16\n",
      "21\n",
      "26\n",
      "31\n",
      "36\n",
      "41\n",
      "46\n"
     ]
    }
   ],
   "source": [
    "#09 Ler o primeiro termo e a razão de uma PA\n",
    "numero = int(input(\"Digite o primeiro termo: \"))\n",
    "razao = int(input(\"Digite a razão: \"))\n",
    "i = int\n",
    "for i in range(10):\n",
    "    pa = numero + (i * razao)\n",
    "    print(pa)\n"
   ]
  },
  {
   "cell_type": "code",
   "execution_count": 21,
   "id": "849d3e0c",
   "metadata": {},
   "outputs": [
    {
     "name": "stdout",
     "output_type": "stream",
     "text": [
      "Digite um número inteiro: 7\n",
      "7 é um número primo.\n"
     ]
    }
   ],
   "source": [
    "# Números Primos\n",
    "\n",
    "def eh_primo(numero):\n",
    "    if numero <= 1:\n",
    "        return False\n",
    "    for i in range(2, int(numero ** 0.5) + 1):\n",
    "        if numero % i == 0:\n",
    "            return False\n",
    "    return True\n",
    "\n",
    "numero = int(input(\"Digite um número inteiro: \"))\n",
    "\n",
    "if eh_primo(numero):\n",
    "    print(numero, \"é um número primo.\")\n",
    "else:\n",
    "    print(numero, \"não é um número primo.\")"
   ]
  },
  {
   "cell_type": "code",
   "execution_count": 30,
   "id": "f0df78f8",
   "metadata": {},
   "outputs": [
    {
     "name": "stdout",
     "output_type": "stream",
     "text": [
      "Chances restantes 3\n",
      "Digite o numero entre 0 e 5 e tente acertar: 5\n",
      "Errou o número está abaixo\n",
      "Chances restantes 2\n",
      "Digite o numero entre 0 e 5 e tente acertar: 5\n",
      "Errou o número está abaixo\n",
      "Chances restantes 1\n",
      "Digite o numero entre 0 e 5 e tente acertar: 5\n",
      "Errou o número está abaixo\n",
      "Chances restantes 0\n",
      "você perdeu\n"
     ]
    }
   ],
   "source": [
    "### Advinhar um número de 0 a 5 do cpu\n",
    "import random\n",
    "\n",
    "num_cpu = random.randint(0,5)\n",
    "chances = 3\n",
    "print(\"Chances restantes: \",chances)\n",
    "\n",
    "while chances > 0:\n",
    "    chute = int(input(\"Digite o numero entre 0 e 5 e tente acertar: \"))\n",
    "    \n",
    "    \n",
    "    if chute == num_cpu:\n",
    "        print(\"Parabéns você acertou\")\n",
    "        break\n",
    "    elif chute < num_cpu:\n",
    "        chances -= 1\n",
    "        print(\"Errou o número está acima\")\n",
    "        print(\"Chances restantes: \",chances)\n",
    "        \n",
    "        \n",
    "    elif chute > num_cpu:\n",
    "        chances -= 1\n",
    "        print(\"Errou o número está abaixo\")\n",
    "        print(\"Chances restantes: \",chances)\n",
    "        \n",
    "    if chances == 0:   \n",
    "        print(\"Você perdeu!\")\n",
    "        break"
   ]
  },
  {
   "cell_type": "code",
   "execution_count": 23,
   "id": "d72dd067",
   "metadata": {},
   "outputs": [
    {
     "name": "stdout",
     "output_type": "stream",
     "text": [
      "Escolha [[1]pedra] [[2]papel] [[3]tesoura] [0] sair do jogo: 1\n",
      "Empate!\n",
      "Escolha [[1]pedra] [[2]papel] [[3]tesoura] [0] sair do jogo: 1\n",
      "Parabéns Voce Ganhou! 1 3\n",
      "Escolha [[1]pedra] [[2]papel] [[3]tesoura] [0] sair do jogo: 2\n",
      "Empate!\n",
      "Escolha [[1]pedra] [[2]papel] [[3]tesoura] [0] sair do jogo: 2\n",
      "Parabéns Voce Ganhou! 2 1\n",
      "Escolha [[1]pedra] [[2]papel] [[3]tesoura] [0] sair do jogo: 2\n",
      "Você Perdeu 2 3\n",
      "Escolha [[1]pedra] [[2]papel] [[3]tesoura] [0] sair do jogo: 0\n",
      "Você saiu do jogo.\n"
     ]
    }
   ],
   "source": [
    "#11 Pedra Papel Tesoura\n",
    "\n",
    "import random\n",
    "\n",
    "escolha = int\n",
    "\n",
    "while not escolha == 0:\n",
    "    escolha_cpu = random.randint(1, 3)\n",
    "    escolha = int(input(\"Escolha [[1]pedra] [[2]papel] [[3]tesoura] [0] sair do jogo: \"))\n",
    "\n",
    "    if (escolha == 1 and escolha_cpu == 3) or (escolha == 2 and escolha_cpu == 1) or (escolha == 3 and escolha_cpu == 2):\n",
    "        print(\"Parabéns Voce Ganhou!\",\"Você: \",escolha,\"CPU: \",escolha_cpu)\n",
    "\n",
    "    elif escolha == escolha_cpu:\n",
    "        print(\"Empate!\")\n",
    "\n",
    "    elif escolha == 0:\n",
    "        print(\"Você saiu do jogo.\")\n",
    "        break\n",
    "\n",
    "    else:\n",
    "        print(\"Perdeu\",\"Você: \",escolha,\"CPU: \",escolha_cpu)\n",
    "    \n",
    "    if escolha < 0 or escolha > 3:\n",
    "        print(\"Número incorreto!\")\n",
    "        break\n"
   ]
  },
  {
   "cell_type": "code",
   "execution_count": 1,
   "id": "5f03d2d4",
   "metadata": {},
   "outputs": [
    {
     "name": "stdout",
     "output_type": "stream",
     "text": [
      "Digite o numero entre 0 e 5 : 2\n",
      "CPU Errou Para Cima\n",
      "CPU Errou Para Cima\n",
      "CPU Errou Para Baixo\n",
      "CPU Errou Para Cima\n",
      "CPU Errou Para Cima\n",
      "CPU Errou Para Cima\n",
      "CPU Errou Para Cima\n",
      "Parabéns CPU acertou\n"
     ]
    }
   ],
   "source": [
    "#12 Computador pensar em um número de 0 a 5\n",
    "import random\n",
    "chave = bool(False)\n",
    "chute = int(input(\"Digite o numero entre 0 e 5 : \"))\n",
    "\n",
    "while not chave:\n",
    "    num_cpu = random.randint(0,5)\n",
    "    \n",
    "    \n",
    "    if chute == num_cpu:\n",
    "        print(\"Parabéns CPU acertou\")\n",
    "        chave = True\n",
    "    elif chute < num_cpu:\n",
    "        print(\"CPU Errou Para Cima\")\n",
    "        \n",
    "    else:\n",
    "        print(\"CPU Errou Para Baixo\")\n",
    "    \n",
    "    if chute > 5 or chute < 0:\n",
    "        print(\"Número incorreto\")\n",
    "        print(\"Encerrando...\")\n",
    "        break\n",
    "        \n",
    "        "
   ]
  },
  {
   "cell_type": "code",
   "execution_count": 30,
   "id": "9553bb19",
   "metadata": {},
   "outputs": [
    {
     "name": "stdout",
     "output_type": "stream",
     "text": [
      "Digite o 1° número: 2\n",
      "Digite o 2° número: 3\n",
      "Digite o 3° número: 4\n",
      "Digite o 4° número: 5\n",
      "Digite o 5° número: 6\n",
      "Digite o 6° número: 8\n",
      "A soma dos números pares é: 20\n"
     ]
    }
   ],
   "source": [
    "#13 retornar apenas pares da soma\n",
    "def main():\n",
    "\n",
    "    pares = []\n",
    "    for i in range(6):\n",
    "        nums = int(input(\"Digite o {}° número: \".format(i+1)))\n",
    "        if nums % 2 == 0:\n",
    "            pares.append(nums)\n",
    "\n",
    "    soma = sum(pares)\n",
    "    print(\"A soma dos números pares é:\", soma)\n",
    "    \n",
    "\n",
    "if __name__ == \"__main__\":\n",
    "    main()\n"
   ]
  },
  {
   "cell_type": "code",
   "execution_count": 32,
   "id": "bd7fd788",
   "metadata": {},
   "outputs": [
    {
     "name": "stdout",
     "output_type": "stream",
     "text": [
      "Digite um número para calcular o fatorial: 5\n",
      "O fatorial de 5 é: 120\n"
     ]
    }
   ],
   "source": [
    "#14 Fatorial\n",
    "def calcular_fatorial(numero):\n",
    "    fatorial = 1\n",
    "    for i in range(1, numero + 1):\n",
    "        fatorial *= i\n",
    "    return fatorial\n",
    "\n",
    "def main():\n",
    "    numero = int(input(\"Digite um número para calcular o fatorial: \"))\n",
    "    if numero < 0:\n",
    "        print(\"Não é possível calcular o fatorial de um número negativo.\")\n",
    "    else:\n",
    "        resultado = calcular_fatorial(numero)\n",
    "        print(\"O fatorial de\", numero, \"é:\", resultado)\n",
    "\n",
    "if __name__ == \"__main__\":\n",
    "    main()\n"
   ]
  },
  {
   "cell_type": "code",
   "execution_count": 33,
   "id": "3238bd58",
   "metadata": {},
   "outputs": [
    {
     "name": "stdout",
     "output_type": "stream",
     "text": [
      "Digite o nome: Matheus\n",
      "Digite o ano de nascimento: 1993\n",
      "Digite o número da carteira de trabalho (0 se não tiver): 13\n",
      "Digite o ano de contratação: 2015\n",
      "Digite o salário: 1700\n",
      "\n",
      "Informações cadastradas:\n",
      "nome: Matheus\n",
      "ano_nascimento: 1993\n",
      "carteira_trabalho: 13\n",
      "ano_contratacao: 2015\n",
      "salario: 1700.0\n",
      "anos_aposentadoria: 26\n",
      "idade: 31\n"
     ]
    }
   ],
   "source": [
    "#15 Aposentadoria\n",
    "from datetime import datetime\n",
    "\n",
    "def calcular_idade(ano_nascimento):\n",
    "    ano_atual = datetime.now().year\n",
    "    return ano_atual - ano_nascimento\n",
    "\n",
    "def calcular_anos_aposentadoria(ano_contratacao):\n",
    "    ano_atual = datetime.now().year\n",
    "    anos_contribuicao = ano_atual - ano_contratacao\n",
    "    if anos_contribuicao >= 35:\n",
    "        return \"Já pode se aposentar\"\n",
    "    else:\n",
    "        anos_restantes = 35 - anos_contribuicao\n",
    "        return anos_restantes\n",
    "\n",
    "def cadastrar_pessoa():\n",
    "    pessoa = {}\n",
    "    pessoa[\"nome\"] = input(\"Digite o nome: \")\n",
    "    pessoa[\"ano_nascimento\"] = int(input(\"Digite o ano de nascimento: \"))\n",
    "    pessoa[\"carteira_trabalho\"] = int(input(\"Digite o número da carteira de trabalho (0 se não tiver): \"))\n",
    "    \n",
    "    if pessoa[\"carteira_trabalho\"] != 0:\n",
    "        pessoa[\"ano_contratacao\"] = int(input(\"Digite o ano de contratação: \"))\n",
    "        pessoa[\"salario\"] = float(input(\"Digite o salário: \"))\n",
    "        pessoa[\"anos_aposentadoria\"] = calcular_anos_aposentadoria(pessoa[\"ano_contratacao\"])\n",
    "    \n",
    "    pessoa[\"idade\"] = calcular_idade(pessoa[\"ano_nascimento\"])\n",
    "    \n",
    "    return pessoa\n",
    "\n",
    "def main():\n",
    "    pessoa = cadastrar_pessoa()\n",
    "    print(\"\\nInformações cadastradas:\")\n",
    "    for chave, valor in pessoa.items():\n",
    "        print(f\"{chave}: {valor}\")\n",
    "\n",
    "if __name__ == \"__main__\":\n",
    "    main()\n"
   ]
  },
  {
   "cell_type": "code",
   "execution_count": 4,
   "id": "f11e05b6",
   "metadata": {},
   "outputs": [
    {
     "name": "stdout",
     "output_type": "stream",
     "text": [
      "Você precida de uma média de 60 pontos de 100 para passar\n",
      "Digite a primeira nota: 83\n",
      "Digite a segunda nota: 59\n",
      "Digite a terceira nota: 63\n",
      "Aluno passou!  68 pontos\n"
     ]
    }
   ],
   "source": [
    "#16 Média\n",
    "print(\"Você precida de uma média de 60 pontos de 100 para passar!\")\n",
    "nota1 = int(input(\"Digite a primeira nota: \"))\n",
    "nota2 = int(input(\"Digite a segunda nota: \"))\n",
    "nota3 = int(input(\"Digite a terceira nota: \"))\n",
    "media = int((nota1 + nota2 + nota3)/3)\n",
    "if media < 60:\n",
    "    print(\"Aluno não passou! \",media,\"pontos\")\n",
    "else:\n",
    "    print(\"Aluno passou! \",media,\"pontos\")\n"
   ]
  },
  {
   "cell_type": "code",
   "execution_count": 4,
   "id": "dd90ef79",
   "metadata": {},
   "outputs": [
    {
     "name": "stdout",
     "output_type": "stream",
     "text": [
      "Quantas pessoas deseja cadastrar? 2\n",
      "\n",
      "Cadastro 1:\n",
      "Digite seu nome: didi\n",
      "Digite a sua idade: 88\n",
      "Digite o seu sexo (M/F)o\n",
      "Letra incorreta! Digite M ou F.\n",
      "Digite o seu sexo (M/F)o\n",
      "Letra incorreta! Digite M ou F.\n",
      "Digite o seu sexo (M/F)o\n",
      "Letra incorreta! Digite M ou F.\n",
      "Digite o seu sexo (M/F)m\n",
      "\n",
      "Cadastro 2:\n",
      "Digite seu nome: dede\n",
      "Digite a sua idade: 99\n",
      "Digite o seu sexo (M/F)r\n",
      "Letra incorreta! Digite M ou F.\n",
      "Digite o seu sexo (M/F)f\n",
      "\n",
      "Foram cadastradas 2 pessoas.\n",
      "A média de idade é: 93.50\n",
      "Mulheres cadastradas:\n",
      "dede\n",
      "Pessoas com idade acima da média:\n",
      "dede\n"
     ]
    }
   ],
   "source": [
    "#17 cadastro\n",
    "def cadastro():\n",
    "    nome = str(input(\"Digite seu nome: \"))\n",
    "    idade = int(input(\"Digite a sua idade: \"))\n",
    "    sexo = str(input(\"Digite o seu sexo (M/F)\")).upper()\n",
    "    \n",
    "    while sexo not in \"MF\":\n",
    "        print (\"Letra incorreta! Digite M ou F.\")\n",
    "        sexo = str(input(\"Digite o seu sexo (M/F)\")).upper()\n",
    "    return {\"nome\": nome, \"idade\": idade, \"sexo\": sexo}\n",
    "\n",
    "# Função para calcular a média de idade\n",
    "def calcular_media_idade(pessoas):\n",
    "    total_idade = sum(pessoa[\"idade\"] for pessoa in pessoas)\n",
    "    return total_idade / len(pessoas)\n",
    "\n",
    "# Função para listar as mulheres\n",
    "def listar_mulheres(pessoas):\n",
    "    return [pessoa[\"nome\"] for pessoa in pessoas if pessoa[\"sexo\"] == \"F\"]\n",
    "\n",
    "# Função para listar pessoas com idade acima da média\n",
    "def listar_acima_media(pessoas, media):\n",
    "    return [pessoa[\"nome\"] for pessoa in pessoas if pessoa[\"idade\"] > media]\n",
    "\n",
    "# Função principal\n",
    "def main():\n",
    "    lista_pessoas = []\n",
    "\n",
    "    num_pessoas = int(input(\"Quantas pessoas deseja cadastrar? \"))\n",
    "\n",
    "    for i in range(num_pessoas):\n",
    "        print(f\"\\nCadastro {i+1}:\")\n",
    "        lista_pessoas.append(cadastro())\n",
    "\n",
    "    # Quantas pessoas foram cadastradas\n",
    "    print(f\"\\nForam cadastradas {len(lista_pessoas)} pessoas.\")\n",
    "\n",
    "    # Média de idade\n",
    "    media_idade = calcular_media_idade(lista_pessoas)\n",
    "    print(f\"A média de idade é: {media_idade:.2f}\")\n",
    "\n",
    "    # Lista de mulheres\n",
    "    mulheres = listar_mulheres(lista_pessoas)\n",
    "    print(\"Mulheres cadastradas:\")\n",
    "    for mulher in mulheres:\n",
    "        print(mulher)\n",
    "\n",
    "    # Lista de pessoas com idade acima da média\n",
    "    acima_media = listar_acima_media(lista_pessoas, media_idade)\n",
    "    print(\"Pessoas com idade acima da média:\")\n",
    "    for pessoa in acima_media:\n",
    "        print(pessoa)\n",
    "\n",
    "# Chamada da função principal\n",
    "if __name__ == \"__main__\":\n",
    "    main()\n",
    "\n",
    "\n",
    "        "
   ]
  },
  {
   "cell_type": "code",
   "execution_count": 5,
   "id": "ef838f44",
   "metadata": {},
   "outputs": [
    {
     "name": "stdout",
     "output_type": "stream",
     "text": [
      "Digite o nome da pessoa: didi\n",
      "Digite a idade da pessoa: 18\n",
      "Digite o sexo da pessoa (M/F): g\n",
      "Digite o nome da pessoa: dede\n",
      "Digite a idade da pessoa: 87\n",
      "Digite o sexo da pessoa (M/F): m\n",
      "Digite o nome da pessoa: yuyu\n",
      "Digite a idade da pessoa: 8888\n",
      "Digite o sexo da pessoa (M/F): f\n",
      "Digite o nome da pessoa: uyuyuy\n",
      "Digite a idade da pessoa: 1\n",
      "Digite o sexo da pessoa (M/F): m\n",
      "A média de idade do grupo é 2248.50 anos.\n"
     ]
    }
   ],
   "source": [
    "# 18 média de 4 pessoas\n",
    "def cadastro():\n",
    "    nome = input(\"Digite o nome da pessoa: \")\n",
    "    idade = int(input(\"Digite a idade da pessoa: \"))\n",
    "    return nome, idade\n",
    "\n",
    "def calcular_media(pessoas):\n",
    "    total_idade = sum(idade for _, idade, _ in pessoas)\n",
    "    return total_idade / len(pessoas)\n",
    "\n",
    "def main():\n",
    "    pessoas = []\n",
    "    \n",
    "    for i in range(4):\n",
    "        nome, idade = cadastro()\n",
    "        sexo = input(\"Digite o sexo da pessoa (M/F): \").upper()  # Convertendo para maiúsculas\n",
    "        while sexo not in [\"M\", \"F\"]:  # Verificando se o sexo é válido\n",
    "            print(\"Sexo inválido. Por favor, digite M para masculino ou F para feminino.\")\n",
    "            sexo = input(\"Digite o sexo da pessoa (M/F): \").upper()\n",
    "        pessoas.append((nome, idade, sexo))\n",
    "\n",
    "    media_idade = calcular_media(pessoas)\n",
    "    print(f\"A média de idade do grupo é {media_idade:.2f} anos.\")\n",
    "\n",
    "if __name__ == \"__main__\":\n",
    "    main()\n"
   ]
  },
  {
   "cell_type": "code",
   "execution_count": 6,
   "id": "874ff8ba",
   "metadata": {},
   "outputs": [],
   "source": [
    "# 20 depósito\n",
    "def calcular_juros(deposito_inicial, taxa_juros, meses):\n",
    "    saldo = deposito_inicial\n",
    "    total_juros = 0\n",
    "    for mes in range(1, meses + 1):\n",
    "        juros_mes = saldo * (taxa_juros / 100)\n",
    "        saldo += juros_mes\n",
    "        total_juros += juros_mes\n",
    "        print(f\"Mês {mes}: Saldo: R${saldo:.2f} | Juros: R${juros_mes:.2f}\")\n",
    "\n",
    "    print(f\"\\nTotal ganho com juros no período: R${total_juros:.2f}\")\n",
    "\n",
    "def main():\n",
    "    deposito_inicial = float(input(\"Digite o depósito inicial: R$\"))\n",
    "    taxa_juros = float(input(\"Digite a taxa de juros (em %): \"))\n",
    "    meses = 24\n",
    "    print(\"\\nExibindo os valores mês a mês:\")\n",
    "    calcular_juros(deposito_inicial, taxa_juros, meses)\n",
    "\n",
    "if __name__ == \"__main__\":\n",
    "    main()\n"
   ]
  },
  {
   "cell_type": "code",
   "execution_count": null,
   "id": "ee616e2b",
   "metadata": {},
   "outputs": [],
   "source": [
    "# 21 números infinitos para com 999\n",
    "def main():\n",
    "    soma = 0\n",
    "    contador = 0\n",
    "    \n",
    "    while True:\n",
    "        numero = int(input(\"Digite um número inteiro (ou 999 para parar): \"))\n",
    "        if numero == 999:\n",
    "            break\n",
    "        soma += numero\n",
    "        contador += 1\n",
    "    \n",
    "    print(f\"\\nForam digitados {contador} números.\")\n",
    "    print(f\"A soma dos números digitados é {soma}.\")\n",
    "\n",
    "if __name__ == \"__main__\":\n",
    "    main()\n"
   ]
  },
  {
   "cell_type": "code",
   "execution_count": 7,
   "id": "e14196ae",
   "metadata": {},
   "outputs": [],
   "source": [
    "# 22 Cadastro sobre continuidade\n",
    "def main():\n",
    "    pessoas_mais_de_18 = 0\n",
    "    homens_cadastrados = 0\n",
    "    mulheres_menos_de_20 = 0\n",
    "    \n",
    "    while True:\n",
    "        nome = input(\"Digite o nome da pessoa: \")\n",
    "        idade = int(input(\"Digite a idade da pessoa: \"))\n",
    "        sexo = input(\"Digite o sexo da pessoa (M/F): \").upper()\n",
    "        \n",
    "        if idade > 18:\n",
    "            pessoas_mais_de_18 += 1\n",
    "        if sexo == 'M':\n",
    "            homens_cadastrados += 1\n",
    "        elif sexo == 'F' and idade < 20:\n",
    "            mulheres_menos_de_20 += 1\n",
    "        \n",
    "        continuar = input(\"Deseja continuar cadastrando pessoas? (S/N): \").upper()\n",
    "        if continuar != 'S':\n",
    "            break\n",
    "    \n",
    "    print(f\"\\nA) {pessoas_mais_de_18} pessoas têm mais de 18 anos.\")\n",
    "    print(f\"B) Foram cadastrados {homens_cadastrados} homens.\")\n",
    "    print(f\"C) {mulheres_menos_de_20} mulheres têm menos de 20 anos.\")\n",
    "\n",
    "if __name__ == \"__main__\":\n",
    "    main()\n"
   ]
  },
  {
   "cell_type": "code",
   "execution_count": null,
   "id": "dcffa881",
   "metadata": {},
   "outputs": [],
   "source": [
    "# 23 MEGA SENA!!\n",
    "import random\n",
    "\n",
    "def gerar_palpite():\n",
    "    return sorted(random.sample(range(1, 61), 6))\n",
    "\n",
    "def main():\n",
    "    quantidade_jogos = int(input(\"Quantos jogos você gostaria de gerar? \"))\n",
    "    palpites = []\n",
    "\n",
    "    for _ in range(quantidade_jogos):\n",
    "        palpites.append(gerar_palpite())\n",
    "\n",
    "    print(\"\\nPalpites gerados:\")\n",
    "    for i, palpite in enumerate(palpites, start=1):\n",
    "        print(f\"Jogo {i}: {palpite}\")\n",
    "\n",
    "if __name__ == \"__main__\":\n",
    "    main()\n"
   ]
  },
  {
   "cell_type": "code",
   "execution_count": 8,
   "id": "d9e0a3d2",
   "metadata": {},
   "outputs": [],
   "source": [
    "# 24 maiores de idade ou não\n",
    "def main():\n",
    "    maiores_idade = 0\n",
    "    menores_idade = 0\n",
    "    \n",
    "    for i in range(1, 8):\n",
    "        ano_nascimento = int(input(f\"Digite o ano de nascimento da pessoa {i}: \"))\n",
    "        idade = 2024 - ano_nascimento\n",
    "        \n",
    "        if idade >= 18:\n",
    "            maiores_idade += 1\n",
    "        else:\n",
    "            menores_idade += 1\n",
    "    \n",
    "    print(f\"\\n{maiores_idade} pessoa(s) já atingiram a maioridade.\")\n",
    "    print(f\"{menores_idade} pessoa(s) ainda não atingiram a maioridade.\")\n",
    "\n",
    "if __name__ == \"__main__\":\n",
    "    main()\n"
   ]
  },
  {
   "cell_type": "code",
   "execution_count": 9,
   "id": "d3b66304",
   "metadata": {},
   "outputs": [],
   "source": [
    "# 25 Comprimento de retas\n",
    "def main():\n",
    "    maiores_idade = 0\n",
    "    menores_idade = 0\n",
    "    \n",
    "    for i in range(1, 8):\n",
    "        ano_nascimento = int(input(f\"Digite o ano de nascimento da pessoa {i}: \"))\n",
    "        idade = 2024 - ano_nascimento\n",
    "        \n",
    "        if idade >= 18:\n",
    "            maiores_idade += 1\n",
    "        else:\n",
    "            menores_idade += 1\n",
    "    \n",
    "    print(f\"\\n{maiores_idade} pessoa(s) já atingiram a maioridade.\")\n",
    "    print(f\"{menores_idade} pessoa(s) ainda não atingiram a maioridade.\")\n",
    "\n",
    "if __name__ == \"__main__\":\n",
    "    main()\n"
   ]
  }
 ],
 "metadata": {
  "kernelspec": {
   "display_name": "Python 3 (ipykernel)",
   "language": "python",
   "name": "python3"
  },
  "language_info": {
   "codemirror_mode": {
    "name": "ipython",
    "version": 3
   },
   "file_extension": ".py",
   "mimetype": "text/x-python",
   "name": "python",
   "nbconvert_exporter": "python",
   "pygments_lexer": "ipython3",
   "version": "3.11.5"
  }
 },
 "nbformat": 4,
 "nbformat_minor": 5
}
